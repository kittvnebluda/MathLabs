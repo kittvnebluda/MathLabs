{
 "cells": [
  {
   "cell_type": "code",
   "execution_count": 130,
   "metadata": {
    "collapsed": true
   },
   "outputs": [],
   "source": [
    "import numpy as np"
   ]
  },
  {
   "cell_type": "code",
   "execution_count": 131,
   "outputs": [],
   "source": [
    "link = \"/home/kit/PycharmProjects/MathLabs/digital_culture/task4.2_439856.csv\""
   ],
   "metadata": {
    "collapsed": false
   }
  },
  {
   "cell_type": "code",
   "execution_count": 132,
   "outputs": [],
   "source": [
    "import pandas as pd\n",
    "data = pd.read_csv(link)"
   ],
   "metadata": {
    "collapsed": false
   }
  },
  {
   "cell_type": "code",
   "execution_count": 133,
   "outputs": [
    {
     "data": {
      "text/plain": "      ID  DISTANCE  STOP_COUNT   COST  FITNESS  INTERNET\n0      1        11           1  21000       14         3\n1      2        24           9  31000       17         3\n2      3        15           2  58000        5         0\n3      4         8           8  58000       10         4\n4      5        26           6  54000       20         3\n..   ...       ...         ...    ...      ...       ...\n195  196        20          11  45000        9         1\n196  197        14           6  36000       25         3\n197  198         5           7  45000       17         2\n198  199         7           6  35000       27         3\n199  200         5           5  36000        9         2\n\n[200 rows x 6 columns]",
      "text/html": "<div>\n<style scoped>\n    .dataframe tbody tr th:only-of-type {\n        vertical-align: middle;\n    }\n\n    .dataframe tbody tr th {\n        vertical-align: top;\n    }\n\n    .dataframe thead th {\n        text-align: right;\n    }\n</style>\n<table border=\"1\" class=\"dataframe\">\n  <thead>\n    <tr style=\"text-align: right;\">\n      <th></th>\n      <th>ID</th>\n      <th>DISTANCE</th>\n      <th>STOP_COUNT</th>\n      <th>COST</th>\n      <th>FITNESS</th>\n      <th>INTERNET</th>\n    </tr>\n  </thead>\n  <tbody>\n    <tr>\n      <th>0</th>\n      <td>1</td>\n      <td>11</td>\n      <td>1</td>\n      <td>21000</td>\n      <td>14</td>\n      <td>3</td>\n    </tr>\n    <tr>\n      <th>1</th>\n      <td>2</td>\n      <td>24</td>\n      <td>9</td>\n      <td>31000</td>\n      <td>17</td>\n      <td>3</td>\n    </tr>\n    <tr>\n      <th>2</th>\n      <td>3</td>\n      <td>15</td>\n      <td>2</td>\n      <td>58000</td>\n      <td>5</td>\n      <td>0</td>\n    </tr>\n    <tr>\n      <th>3</th>\n      <td>4</td>\n      <td>8</td>\n      <td>8</td>\n      <td>58000</td>\n      <td>10</td>\n      <td>4</td>\n    </tr>\n    <tr>\n      <th>4</th>\n      <td>5</td>\n      <td>26</td>\n      <td>6</td>\n      <td>54000</td>\n      <td>20</td>\n      <td>3</td>\n    </tr>\n    <tr>\n      <th>...</th>\n      <td>...</td>\n      <td>...</td>\n      <td>...</td>\n      <td>...</td>\n      <td>...</td>\n      <td>...</td>\n    </tr>\n    <tr>\n      <th>195</th>\n      <td>196</td>\n      <td>20</td>\n      <td>11</td>\n      <td>45000</td>\n      <td>9</td>\n      <td>1</td>\n    </tr>\n    <tr>\n      <th>196</th>\n      <td>197</td>\n      <td>14</td>\n      <td>6</td>\n      <td>36000</td>\n      <td>25</td>\n      <td>3</td>\n    </tr>\n    <tr>\n      <th>197</th>\n      <td>198</td>\n      <td>5</td>\n      <td>7</td>\n      <td>45000</td>\n      <td>17</td>\n      <td>2</td>\n    </tr>\n    <tr>\n      <th>198</th>\n      <td>199</td>\n      <td>7</td>\n      <td>6</td>\n      <td>35000</td>\n      <td>27</td>\n      <td>3</td>\n    </tr>\n    <tr>\n      <th>199</th>\n      <td>200</td>\n      <td>5</td>\n      <td>5</td>\n      <td>36000</td>\n      <td>9</td>\n      <td>2</td>\n    </tr>\n  </tbody>\n</table>\n<p>200 rows × 6 columns</p>\n</div>"
     },
     "execution_count": 133,
     "metadata": {},
     "output_type": "execute_result"
    }
   ],
   "source": [
    "data"
   ],
   "metadata": {
    "collapsed": false
   }
  },
  {
   "cell_type": "code",
   "execution_count": 134,
   "outputs": [
    {
     "data": {
      "text/plain": "     DISTANCE  STOP_COUNT   COST  FITNESS  INTERNET\nID                                                 \n1          11           1  21000       14         3\n2          24           9  31000       17         3\n3          15           2  58000        5         0\n4           8           8  58000       10         4\n5          26           6  54000       20         3\n..        ...         ...    ...      ...       ...\n196        20          11  45000        9         1\n197        14           6  36000       25         3\n198         5           7  45000       17         2\n199         7           6  35000       27         3\n200         5           5  36000        9         2\n\n[200 rows x 5 columns]",
      "text/html": "<div>\n<style scoped>\n    .dataframe tbody tr th:only-of-type {\n        vertical-align: middle;\n    }\n\n    .dataframe tbody tr th {\n        vertical-align: top;\n    }\n\n    .dataframe thead th {\n        text-align: right;\n    }\n</style>\n<table border=\"1\" class=\"dataframe\">\n  <thead>\n    <tr style=\"text-align: right;\">\n      <th></th>\n      <th>DISTANCE</th>\n      <th>STOP_COUNT</th>\n      <th>COST</th>\n      <th>FITNESS</th>\n      <th>INTERNET</th>\n    </tr>\n    <tr>\n      <th>ID</th>\n      <th></th>\n      <th></th>\n      <th></th>\n      <th></th>\n      <th></th>\n    </tr>\n  </thead>\n  <tbody>\n    <tr>\n      <th>1</th>\n      <td>11</td>\n      <td>1</td>\n      <td>21000</td>\n      <td>14</td>\n      <td>3</td>\n    </tr>\n    <tr>\n      <th>2</th>\n      <td>24</td>\n      <td>9</td>\n      <td>31000</td>\n      <td>17</td>\n      <td>3</td>\n    </tr>\n    <tr>\n      <th>3</th>\n      <td>15</td>\n      <td>2</td>\n      <td>58000</td>\n      <td>5</td>\n      <td>0</td>\n    </tr>\n    <tr>\n      <th>4</th>\n      <td>8</td>\n      <td>8</td>\n      <td>58000</td>\n      <td>10</td>\n      <td>4</td>\n    </tr>\n    <tr>\n      <th>5</th>\n      <td>26</td>\n      <td>6</td>\n      <td>54000</td>\n      <td>20</td>\n      <td>3</td>\n    </tr>\n    <tr>\n      <th>...</th>\n      <td>...</td>\n      <td>...</td>\n      <td>...</td>\n      <td>...</td>\n      <td>...</td>\n    </tr>\n    <tr>\n      <th>196</th>\n      <td>20</td>\n      <td>11</td>\n      <td>45000</td>\n      <td>9</td>\n      <td>1</td>\n    </tr>\n    <tr>\n      <th>197</th>\n      <td>14</td>\n      <td>6</td>\n      <td>36000</td>\n      <td>25</td>\n      <td>3</td>\n    </tr>\n    <tr>\n      <th>198</th>\n      <td>5</td>\n      <td>7</td>\n      <td>45000</td>\n      <td>17</td>\n      <td>2</td>\n    </tr>\n    <tr>\n      <th>199</th>\n      <td>7</td>\n      <td>6</td>\n      <td>35000</td>\n      <td>27</td>\n      <td>3</td>\n    </tr>\n    <tr>\n      <th>200</th>\n      <td>5</td>\n      <td>5</td>\n      <td>36000</td>\n      <td>9</td>\n      <td>2</td>\n    </tr>\n  </tbody>\n</table>\n<p>200 rows × 5 columns</p>\n</div>"
     },
     "execution_count": 134,
     "metadata": {},
     "output_type": "execute_result"
    }
   ],
   "source": [
    "data = data.set_index(\"ID\")\n",
    "data"
   ],
   "metadata": {
    "collapsed": false
   }
  },
  {
   "cell_type": "code",
   "execution_count": 135,
   "outputs": [
    {
     "data": {
      "text/plain": "     DISTANCE  STOP_COUNT      COST   FITNESS  INTERNET\nID                                                     \n1    0.307692    0.000000  0.025641  0.423077      0.75\n2    0.807692    0.727273  0.282051  0.538462      0.75\n3    0.461538    0.090909  0.974359  0.076923      0.00\n4    0.192308    0.636364  0.974359  0.269231      1.00\n5    0.884615    0.454545  0.871795  0.653846      0.75\n..        ...         ...       ...       ...       ...\n196  0.653846    0.909091  0.641026  0.230769      0.25\n197  0.423077    0.454545  0.410256  0.846154      0.75\n198  0.076923    0.545455  0.641026  0.538462      0.50\n199  0.153846    0.454545  0.384615  0.923077      0.75\n200  0.076923    0.363636  0.410256  0.230769      0.50\n\n[200 rows x 5 columns]",
      "text/html": "<div>\n<style scoped>\n    .dataframe tbody tr th:only-of-type {\n        vertical-align: middle;\n    }\n\n    .dataframe tbody tr th {\n        vertical-align: top;\n    }\n\n    .dataframe thead th {\n        text-align: right;\n    }\n</style>\n<table border=\"1\" class=\"dataframe\">\n  <thead>\n    <tr style=\"text-align: right;\">\n      <th></th>\n      <th>DISTANCE</th>\n      <th>STOP_COUNT</th>\n      <th>COST</th>\n      <th>FITNESS</th>\n      <th>INTERNET</th>\n    </tr>\n    <tr>\n      <th>ID</th>\n      <th></th>\n      <th></th>\n      <th></th>\n      <th></th>\n      <th></th>\n    </tr>\n  </thead>\n  <tbody>\n    <tr>\n      <th>1</th>\n      <td>0.307692</td>\n      <td>0.000000</td>\n      <td>0.025641</td>\n      <td>0.423077</td>\n      <td>0.75</td>\n    </tr>\n    <tr>\n      <th>2</th>\n      <td>0.807692</td>\n      <td>0.727273</td>\n      <td>0.282051</td>\n      <td>0.538462</td>\n      <td>0.75</td>\n    </tr>\n    <tr>\n      <th>3</th>\n      <td>0.461538</td>\n      <td>0.090909</td>\n      <td>0.974359</td>\n      <td>0.076923</td>\n      <td>0.00</td>\n    </tr>\n    <tr>\n      <th>4</th>\n      <td>0.192308</td>\n      <td>0.636364</td>\n      <td>0.974359</td>\n      <td>0.269231</td>\n      <td>1.00</td>\n    </tr>\n    <tr>\n      <th>5</th>\n      <td>0.884615</td>\n      <td>0.454545</td>\n      <td>0.871795</td>\n      <td>0.653846</td>\n      <td>0.75</td>\n    </tr>\n    <tr>\n      <th>...</th>\n      <td>...</td>\n      <td>...</td>\n      <td>...</td>\n      <td>...</td>\n      <td>...</td>\n    </tr>\n    <tr>\n      <th>196</th>\n      <td>0.653846</td>\n      <td>0.909091</td>\n      <td>0.641026</td>\n      <td>0.230769</td>\n      <td>0.25</td>\n    </tr>\n    <tr>\n      <th>197</th>\n      <td>0.423077</td>\n      <td>0.454545</td>\n      <td>0.410256</td>\n      <td>0.846154</td>\n      <td>0.75</td>\n    </tr>\n    <tr>\n      <th>198</th>\n      <td>0.076923</td>\n      <td>0.545455</td>\n      <td>0.641026</td>\n      <td>0.538462</td>\n      <td>0.50</td>\n    </tr>\n    <tr>\n      <th>199</th>\n      <td>0.153846</td>\n      <td>0.454545</td>\n      <td>0.384615</td>\n      <td>0.923077</td>\n      <td>0.75</td>\n    </tr>\n    <tr>\n      <th>200</th>\n      <td>0.076923</td>\n      <td>0.363636</td>\n      <td>0.410256</td>\n      <td>0.230769</td>\n      <td>0.50</td>\n    </tr>\n  </tbody>\n</table>\n<p>200 rows × 5 columns</p>\n</div>"
     },
     "execution_count": 135,
     "metadata": {},
     "output_type": "execute_result"
    }
   ],
   "source": [
    "def normalize(x):\n",
    "    m = x.min()\n",
    "    M = x.max()\n",
    "    return (x - m) / (M - m)\n",
    "\n",
    "data = data.apply(normalize)\n",
    "data"
   ],
   "metadata": {
    "collapsed": false
   }
  },
  {
   "cell_type": "code",
   "execution_count": 136,
   "outputs": [
    {
     "data": {
      "text/plain": "     DISTANCE  STOP_COUNT      COST   FITNESS  INTERNET       SUM\nID                                                               \n138  0.076923    0.090909  0.102564  0.461538      0.75  0.487704\n1    0.307692    0.000000  0.025641  0.423077      0.75  0.542949\n54   0.000000    0.000000  0.102564  0.384615      0.25  0.554487\n143  0.115385    0.181818  0.051282  0.000000      0.50  0.598485\n59   0.192308    0.454545  0.051282  0.076923      1.00  0.713520\n..        ...         ...       ...       ...       ...       ...\n70   0.461538    1.000000  0.948718  0.269231      0.00  2.964103\n68   0.923077    1.000000  0.897436  0.384615      0.75  3.022436\n65   0.884615    0.909091  0.692308  0.846154      0.25  3.030245\n101  0.923077    0.909091  0.846154  0.423077      0.25  3.137937\n66   0.807692    0.909091  0.794872  0.846154      0.00  3.180886\n\n[200 rows x 6 columns]",
      "text/html": "<div>\n<style scoped>\n    .dataframe tbody tr th:only-of-type {\n        vertical-align: middle;\n    }\n\n    .dataframe tbody tr th {\n        vertical-align: top;\n    }\n\n    .dataframe thead th {\n        text-align: right;\n    }\n</style>\n<table border=\"1\" class=\"dataframe\">\n  <thead>\n    <tr style=\"text-align: right;\">\n      <th></th>\n      <th>DISTANCE</th>\n      <th>STOP_COUNT</th>\n      <th>COST</th>\n      <th>FITNESS</th>\n      <th>INTERNET</th>\n      <th>SUM</th>\n    </tr>\n    <tr>\n      <th>ID</th>\n      <th></th>\n      <th></th>\n      <th></th>\n      <th></th>\n      <th></th>\n      <th></th>\n    </tr>\n  </thead>\n  <tbody>\n    <tr>\n      <th>138</th>\n      <td>0.076923</td>\n      <td>0.090909</td>\n      <td>0.102564</td>\n      <td>0.461538</td>\n      <td>0.75</td>\n      <td>0.487704</td>\n    </tr>\n    <tr>\n      <th>1</th>\n      <td>0.307692</td>\n      <td>0.000000</td>\n      <td>0.025641</td>\n      <td>0.423077</td>\n      <td>0.75</td>\n      <td>0.542949</td>\n    </tr>\n    <tr>\n      <th>54</th>\n      <td>0.000000</td>\n      <td>0.000000</td>\n      <td>0.102564</td>\n      <td>0.384615</td>\n      <td>0.25</td>\n      <td>0.554487</td>\n    </tr>\n    <tr>\n      <th>143</th>\n      <td>0.115385</td>\n      <td>0.181818</td>\n      <td>0.051282</td>\n      <td>0.000000</td>\n      <td>0.50</td>\n      <td>0.598485</td>\n    </tr>\n    <tr>\n      <th>59</th>\n      <td>0.192308</td>\n      <td>0.454545</td>\n      <td>0.051282</td>\n      <td>0.076923</td>\n      <td>1.00</td>\n      <td>0.713520</td>\n    </tr>\n    <tr>\n      <th>...</th>\n      <td>...</td>\n      <td>...</td>\n      <td>...</td>\n      <td>...</td>\n      <td>...</td>\n      <td>...</td>\n    </tr>\n    <tr>\n      <th>70</th>\n      <td>0.461538</td>\n      <td>1.000000</td>\n      <td>0.948718</td>\n      <td>0.269231</td>\n      <td>0.00</td>\n      <td>2.964103</td>\n    </tr>\n    <tr>\n      <th>68</th>\n      <td>0.923077</td>\n      <td>1.000000</td>\n      <td>0.897436</td>\n      <td>0.384615</td>\n      <td>0.75</td>\n      <td>3.022436</td>\n    </tr>\n    <tr>\n      <th>65</th>\n      <td>0.884615</td>\n      <td>0.909091</td>\n      <td>0.692308</td>\n      <td>0.846154</td>\n      <td>0.25</td>\n      <td>3.030245</td>\n    </tr>\n    <tr>\n      <th>101</th>\n      <td>0.923077</td>\n      <td>0.909091</td>\n      <td>0.846154</td>\n      <td>0.423077</td>\n      <td>0.25</td>\n      <td>3.137937</td>\n    </tr>\n    <tr>\n      <th>66</th>\n      <td>0.807692</td>\n      <td>0.909091</td>\n      <td>0.794872</td>\n      <td>0.846154</td>\n      <td>0.00</td>\n      <td>3.180886</td>\n    </tr>\n  </tbody>\n</table>\n<p>200 rows × 6 columns</p>\n</div>"
     },
     "execution_count": 136,
     "metadata": {},
     "output_type": "execute_result"
    }
   ],
   "source": [
    "data[\"SUM\"] = data.STOP_COUNT + data.DISTANCE + data.COST + 0.2 * data.FITNESS + 0.5 * (1 - data.INTERNET)\n",
    "data.sort_values(by=\"SUM\", ascending=True)"
   ],
   "metadata": {
    "collapsed": false
   }
  }
 ],
 "metadata": {
  "kernelspec": {
   "display_name": "Python 3",
   "language": "python",
   "name": "python3"
  },
  "language_info": {
   "codemirror_mode": {
    "name": "ipython",
    "version": 2
   },
   "file_extension": ".py",
   "mimetype": "text/x-python",
   "name": "python",
   "nbconvert_exporter": "python",
   "pygments_lexer": "ipython2",
   "version": "2.7.6"
  }
 },
 "nbformat": 4,
 "nbformat_minor": 0
}
