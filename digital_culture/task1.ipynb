{
 "cells": [
  {
   "cell_type": "code",
   "execution_count": 142,
   "metadata": {
    "collapsed": true
   },
   "outputs": [
    {
     "name": "stdout",
     "output_type": "stream",
     "text": [
      "<class 'pandas.core.frame.DataFrame'>\n",
      "RangeIndex: 15 entries, 0 to 14\n",
      "Data columns (total 5 columns):\n",
      " #   Column          Non-Null Count  Dtype \n",
      "---  ------          --------------  ----- \n",
      " 0   Точка маршрута  15 non-null     object\n",
      " 1   Рейс 1          15 non-null     object\n",
      " 2   Рейс 2          15 non-null     object\n",
      " 3   Рейс 3          15 non-null     object\n",
      " 4   Рейс 4          15 non-null     object\n",
      "dtypes: object(5)\n",
      "memory usage: 728.0+ bytes\n"
     ]
    }
   ],
   "source": [
    "import numpy as np\n",
    "import pandas as pd\n",
    "\n",
    "df = pd.read_csv(\"/home/kit/PycharmProjects/MathLabs/digital_culture/task1_v3_2_514811.csv\")\n",
    "\n",
    "df.info()"
   ]
  },
  {
   "cell_type": "code",
   "execution_count": 143,
   "outputs": [
    {
     "name": "stdout",
     "output_type": "stream",
     "text": [
      "<class 'pandas.core.frame.DataFrame'>\n",
      "RangeIndex: 15 entries, 0 to 14\n",
      "Data columns (total 5 columns):\n",
      " #   Column          Non-Null Count  Dtype          \n",
      "---  ------          --------------  -----          \n",
      " 0   Точка маршрута  15 non-null     object         \n",
      " 1   Рейс 1          15 non-null     timedelta64[ns]\n",
      " 2   Рейс 2          15 non-null     timedelta64[ns]\n",
      " 3   Рейс 3          15 non-null     timedelta64[ns]\n",
      " 4   Рейс 4          15 non-null     timedelta64[ns]\n",
      "dtypes: object(1), timedelta64[ns](4)\n",
      "memory usage: 728.0+ bytes\n"
     ]
    }
   ],
   "source": [
    "df[df.columns[1:]] = df[df.columns[1:]].apply(lambda x: pd.to_timedelta(x))\n",
    "\n",
    "df.info()"
   ],
   "metadata": {
    "collapsed": false
   }
  },
  {
   "cell_type": "code",
   "execution_count": 144,
   "outputs": [
    {
     "data": {
      "text/plain": "                               Точка маршрута          Рейс 1          Рейс 2  \\\n0                               28-29-Я ЛИНИИ 0 days 07:13:40 0 days 07:28:40   \n1                               22-23-Я ЛИНИИ 0 days 07:14:30 0 days 07:29:30   \n2                 МУЗЕЙ ГОРОДСКОГО ТРАНСПОРТА 0 days 07:16:40 0 days 07:31:40   \n3                               12-13-Я ЛИНИИ 0 days 07:18:30 0 days 07:33:30   \n4                    МЕТРО \"ВАСИЛЕОСТРОВСКАЯ\" 0 days 07:21:00 0 days 07:35:50   \n5                       1-Я И КАДЕТСКАЯ ЛИНИИ 0 days 07:22:30 0 days 07:37:10   \n6   1-Я И КАДЕТСКАЯ ЛИНИИ. МЕТРО \"СПОРТИВНАЯ\" 0 days 07:23:50 0 days 07:38:20   \n7                          МЕТРО \"СПОРТИВНАЯ\" 0 days 07:25:10 0 days 07:39:30   \n8                       КРОНВЕРКСКИЙ ПРОСПЕКТ 0 days 07:26:20 0 days 07:40:40   \n9                              ЗВЕРИНСКАЯ УЛ. 0 days 07:27:50 0 days 07:42:10   \n10                             ВВЕДЕНСКАЯ УЛ. 0 days 07:28:50 0 days 07:43:40   \n11                               СЫТНЫЙ РЫНОК 0 days 07:30:10 0 days 07:45:10   \n12                        МЕТРО \"ГОРЬКОВСКАЯ\" 0 days 07:31:10 0 days 07:46:20   \n13                          ТРОИЦКАЯ ПЛ. П.С. 0 days 07:32:20 0 days 07:48:00   \n14                              УЛИЦА ЧАПАЕВА 0 days 07:33:40 0 days 07:49:10   \n\n            Рейс 3          Рейс 4  \n0  0 days 07:40:50 0 days 07:56:40  \n1  0 days 07:41:50 0 days 07:57:40  \n2  0 days 00:00:00 0 days 08:00:10  \n3  0 days 00:00:00 0 days 08:02:20  \n4  0 days 00:00:00 0 days 08:04:30  \n5  0 days 00:00:00 0 days 08:06:10  \n6  0 days 00:00:00 0 days 08:07:20  \n7  0 days 07:54:20 0 days 08:08:50  \n8  0 days 07:55:50 0 days 08:10:10  \n9  0 days 07:56:50 0 days 08:11:20  \n10 0 days 07:58:20 0 days 08:13:00  \n11 0 days 08:00:00 0 days 08:14:10  \n12 0 days 08:01:00 0 days 08:15:40  \n13 0 days 08:02:20 0 days 08:16:50  \n14 0 days 08:03:50 0 days 08:18:10  ",
      "text/html": "<div>\n<style scoped>\n    .dataframe tbody tr th:only-of-type {\n        vertical-align: middle;\n    }\n\n    .dataframe tbody tr th {\n        vertical-align: top;\n    }\n\n    .dataframe thead th {\n        text-align: right;\n    }\n</style>\n<table border=\"1\" class=\"dataframe\">\n  <thead>\n    <tr style=\"text-align: right;\">\n      <th></th>\n      <th>Точка маршрута</th>\n      <th>Рейс 1</th>\n      <th>Рейс 2</th>\n      <th>Рейс 3</th>\n      <th>Рейс 4</th>\n    </tr>\n  </thead>\n  <tbody>\n    <tr>\n      <th>0</th>\n      <td>28-29-Я ЛИНИИ</td>\n      <td>0 days 07:13:40</td>\n      <td>0 days 07:28:40</td>\n      <td>0 days 07:40:50</td>\n      <td>0 days 07:56:40</td>\n    </tr>\n    <tr>\n      <th>1</th>\n      <td>22-23-Я ЛИНИИ</td>\n      <td>0 days 07:14:30</td>\n      <td>0 days 07:29:30</td>\n      <td>0 days 07:41:50</td>\n      <td>0 days 07:57:40</td>\n    </tr>\n    <tr>\n      <th>2</th>\n      <td>МУЗЕЙ ГОРОДСКОГО ТРАНСПОРТА</td>\n      <td>0 days 07:16:40</td>\n      <td>0 days 07:31:40</td>\n      <td>0 days 00:00:00</td>\n      <td>0 days 08:00:10</td>\n    </tr>\n    <tr>\n      <th>3</th>\n      <td>12-13-Я ЛИНИИ</td>\n      <td>0 days 07:18:30</td>\n      <td>0 days 07:33:30</td>\n      <td>0 days 00:00:00</td>\n      <td>0 days 08:02:20</td>\n    </tr>\n    <tr>\n      <th>4</th>\n      <td>МЕТРО \"ВАСИЛЕОСТРОВСКАЯ\"</td>\n      <td>0 days 07:21:00</td>\n      <td>0 days 07:35:50</td>\n      <td>0 days 00:00:00</td>\n      <td>0 days 08:04:30</td>\n    </tr>\n    <tr>\n      <th>5</th>\n      <td>1-Я И КАДЕТСКАЯ ЛИНИИ</td>\n      <td>0 days 07:22:30</td>\n      <td>0 days 07:37:10</td>\n      <td>0 days 00:00:00</td>\n      <td>0 days 08:06:10</td>\n    </tr>\n    <tr>\n      <th>6</th>\n      <td>1-Я И КАДЕТСКАЯ ЛИНИИ. МЕТРО \"СПОРТИВНАЯ\"</td>\n      <td>0 days 07:23:50</td>\n      <td>0 days 07:38:20</td>\n      <td>0 days 00:00:00</td>\n      <td>0 days 08:07:20</td>\n    </tr>\n    <tr>\n      <th>7</th>\n      <td>МЕТРО \"СПОРТИВНАЯ\"</td>\n      <td>0 days 07:25:10</td>\n      <td>0 days 07:39:30</td>\n      <td>0 days 07:54:20</td>\n      <td>0 days 08:08:50</td>\n    </tr>\n    <tr>\n      <th>8</th>\n      <td>КРОНВЕРКСКИЙ ПРОСПЕКТ</td>\n      <td>0 days 07:26:20</td>\n      <td>0 days 07:40:40</td>\n      <td>0 days 07:55:50</td>\n      <td>0 days 08:10:10</td>\n    </tr>\n    <tr>\n      <th>9</th>\n      <td>ЗВЕРИНСКАЯ УЛ.</td>\n      <td>0 days 07:27:50</td>\n      <td>0 days 07:42:10</td>\n      <td>0 days 07:56:50</td>\n      <td>0 days 08:11:20</td>\n    </tr>\n    <tr>\n      <th>10</th>\n      <td>ВВЕДЕНСКАЯ УЛ.</td>\n      <td>0 days 07:28:50</td>\n      <td>0 days 07:43:40</td>\n      <td>0 days 07:58:20</td>\n      <td>0 days 08:13:00</td>\n    </tr>\n    <tr>\n      <th>11</th>\n      <td>СЫТНЫЙ РЫНОК</td>\n      <td>0 days 07:30:10</td>\n      <td>0 days 07:45:10</td>\n      <td>0 days 08:00:00</td>\n      <td>0 days 08:14:10</td>\n    </tr>\n    <tr>\n      <th>12</th>\n      <td>МЕТРО \"ГОРЬКОВСКАЯ\"</td>\n      <td>0 days 07:31:10</td>\n      <td>0 days 07:46:20</td>\n      <td>0 days 08:01:00</td>\n      <td>0 days 08:15:40</td>\n    </tr>\n    <tr>\n      <th>13</th>\n      <td>ТРОИЦКАЯ ПЛ. П.С.</td>\n      <td>0 days 07:32:20</td>\n      <td>0 days 07:48:00</td>\n      <td>0 days 08:02:20</td>\n      <td>0 days 08:16:50</td>\n    </tr>\n    <tr>\n      <th>14</th>\n      <td>УЛИЦА ЧАПАЕВА</td>\n      <td>0 days 07:33:40</td>\n      <td>0 days 07:49:10</td>\n      <td>0 days 08:03:50</td>\n      <td>0 days 08:18:10</td>\n    </tr>\n  </tbody>\n</table>\n</div>"
     },
     "execution_count": 144,
     "metadata": {},
     "output_type": "execute_result"
    }
   ],
   "source": [
    "df"
   ],
   "metadata": {
    "collapsed": false
   }
  },
  {
   "cell_type": "code",
   "execution_count": 145,
   "outputs": [
    {
     "data": {
      "text/plain": "Timedelta('0 days 00:12:30')"
     },
     "execution_count": 145,
     "metadata": {},
     "output_type": "execute_result"
    }
   ],
   "source": [
    "timedelta = df[\"Рейс 3\"].loc[7] - df[\"Рейс 3\"].loc[1]\n",
    "timedelta"
   ],
   "metadata": {
    "collapsed": false
   }
  },
  {
   "cell_type": "code",
   "execution_count": 146,
   "outputs": [
    {
     "name": "stdout",
     "output_type": "stream",
     "text": [
      "[Timedelta('0 days 00:02:10') Timedelta('0 days 00:01:50')\n",
      " Timedelta('0 days 00:02:30') Timedelta('0 days 00:01:30')\n",
      " Timedelta('0 days 00:01:20') Timedelta('0 days 00:01:20')]\n",
      "[Timedelta('0 days 00:02:10') Timedelta('0 days 00:01:50')\n",
      " Timedelta('0 days 00:02:20') Timedelta('0 days 00:01:20')\n",
      " Timedelta('0 days 00:01:10') Timedelta('0 days 00:01:10')]\n",
      "[Timedelta('0 days 00:02:30') Timedelta('0 days 00:02:10')\n",
      " Timedelta('0 days 00:02:10') Timedelta('0 days 00:01:40')\n",
      " Timedelta('0 days 00:01:10') Timedelta('0 days 00:01:30')]\n"
     ]
    }
   ],
   "source": [
    "route1 = np.array([df[\"Рейс 1\"].loc[i] - df[\"Рейс 1\"].loc[j] for i, j in zip(range(2, 8), range(1, 7))])\n",
    "route2 = np.array([df[\"Рейс 2\"].loc[i] - df[\"Рейс 2\"].loc[j] for i, j in zip(range(2, 8), range(1, 7))])\n",
    "route4 = np.array([df[\"Рейс 4\"].loc[i] - df[\"Рейс 4\"].loc[j] for i, j in zip(range(2, 8), range(1, 7))])\n",
    "\n",
    "print(route1)\n",
    "print(route2)\n",
    "print(route4)"
   ],
   "metadata": {
    "collapsed": false
   }
  },
  {
   "cell_type": "code",
   "execution_count": 147,
   "outputs": [
    {
     "data": {
      "text/plain": "array([136.666666, 116.666666, 140.      ,  90.      ,  73.333333,\n        80.      ])"
     },
     "execution_count": 147,
     "metadata": {},
     "output_type": "execute_result"
    }
   ],
   "source": [
    "avg = (route4 + route2 + route1) / 3\n",
    "avg = np.array([x.total_seconds() for x in avg])\n",
    "avg"
   ],
   "metadata": {
    "collapsed": false
   }
  },
  {
   "cell_type": "markdown",
   "source": [],
   "metadata": {
    "collapsed": false
   }
  },
  {
   "cell_type": "code",
   "execution_count": 148,
   "outputs": [
    {
     "name": "stdout",
     "output_type": "stream",
     "text": [
      "637.0\n",
      "0 days 00:12:30\n"
     ]
    }
   ],
   "source": [
    "sum_avg = np.round(np.sum(avg), 0)\n",
    "print(sum_avg)\n",
    "print(timedelta)"
   ],
   "metadata": {
    "collapsed": false
   }
  },
  {
   "cell_type": "code",
   "execution_count": 149,
   "outputs": [
    {
     "data": {
      "text/plain": "['00:02:41', '00:02:17', '00:02:45', '00:01:46', '00:01:26', '00:01:34']"
     },
     "execution_count": 149,
     "metadata": {},
     "output_type": "execute_result"
    }
   ],
   "source": [
    "import time\n",
    "\n",
    "ans = timedelta.total_seconds() * avg / sum_avg\n",
    "ans = np.round(ans, 0)\n",
    "ans = [time.strftime('%H:%M:%S', time.gmtime(x)) for x in ans]\n",
    "ans"
   ],
   "metadata": {
    "collapsed": false
   }
  },
  {
   "cell_type": "code",
   "execution_count": 150,
   "outputs": [
    {
     "name": "stdout",
     "output_type": "stream",
     "text": [
      "2   0 days 07:41:50\n",
      "3   0 days 07:41:50\n",
      "4   0 days 07:41:50\n",
      "5   0 days 07:41:50\n",
      "6   0 days 07:41:50\n",
      "Name: Рейс 3, dtype: timedelta64[ns]\n",
      "0   0 days 00:02:41\n",
      "1   0 days 00:02:17\n",
      "2   0 days 00:02:45\n",
      "3   0 days 00:01:46\n",
      "4   0 days 00:01:26\n",
      "dtype: timedelta64[ns]\n",
      "['0 days 07:44:31', '07:46:48', '07:49:33', '07:51:19', '07:52:45']\n"
     ]
    }
   ],
   "source": [
    "data = pd.to_timedelta(df[\"Рейс 3\"].loc[2:6] + df[\"Рейс 3\"][1])\n",
    "print(data)\n",
    "ans = pd.Series(ans[:-1])\n",
    "ans = pd.to_timedelta(ans)\n",
    "print(ans)\n",
    "A1 = df['Рейс 3'][1] + ans[0]\n",
    "A2 = A1 + ans[1]\n",
    "A3 = A2 + ans[2]\n",
    "A4 = A3 + ans[3]\n",
    "A5 = A4 + ans[4]\n",
    "ANS = [str(A1)[7:], str(A2)[7:], str(A3)[7:], str(A4)[7:], str(A5)[7:]]\n",
    "print(ANS)"
   ],
   "metadata": {
    "collapsed": false
   }
  },
  {
   "cell_type": "code",
   "execution_count": 150,
   "outputs": [],
   "source": [],
   "metadata": {
    "collapsed": false
   }
  }
 ],
 "metadata": {
  "kernelspec": {
   "display_name": "Python 3",
   "language": "python",
   "name": "python3"
  },
  "language_info": {
   "codemirror_mode": {
    "name": "ipython",
    "version": 2
   },
   "file_extension": ".py",
   "mimetype": "text/x-python",
   "name": "python",
   "nbconvert_exporter": "python",
   "pygments_lexer": "ipython2",
   "version": "2.7.6"
  }
 },
 "nbformat": 4,
 "nbformat_minor": 0
}
